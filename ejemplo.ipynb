{
 "cells": [
  {
   "cell_type": "code",
   "execution_count": 2,
   "metadata": {},
   "outputs": [],
   "source": [
    "import cv2 as cv\n",
    "import numpy as np"
   ]
  },
  {
   "cell_type": "code",
   "execution_count": 3,
   "metadata": {},
   "outputs": [],
   "source": [
    "cv.startWindowThread()\n",
    "\n",
    "\n",
    "img = cv.imread('./img/proteoma.png')\n",
    "img = cv.resize(img, (400, 300))\n",
    "imgCanny = cv.Canny(img, 100, 200)\n",
    "_, imgGray = cv.threshold(img, 100, 255, cv.THRESH_BINARY)\n",
    "_, imgGrayInv = cv.threshold(img, 130, 255, cv.THRESH_BINARY_INV)\n",
    "\n",
    "cv.imshow('Foto original', img)\n",
    "cv.imshow('Foto con Canny', imgCanny)\n",
    "cv.imshow('Foto con unbralizacion', np.hstack([imgGray, imgGrayInv]))\n",
    "\n",
    "cv.waitKey(0) # Corre hasta presionar un tecla\n",
    "cv.destroyAllWindows()\n",
    "# No olvidar las ventanas abiertas cerrarlas"
   ]
  }
 ],
 "metadata": {
  "kernelspec": {
   "display_name": "Python 3.10.4 ('pyx')",
   "language": "python",
   "name": "python3"
  },
  "language_info": {
   "codemirror_mode": {
    "name": "ipython",
    "version": 3
   },
   "file_extension": ".py",
   "mimetype": "text/x-python",
   "name": "python",
   "nbconvert_exporter": "python",
   "pygments_lexer": "ipython3",
   "version": "3.11.1"
  },
  "orig_nbformat": 4,
  "vscode": {
   "interpreter": {
    "hash": "c456a206b38136756eb3b7c48751e73f128e55b9a1b2dedc48b633b10db9f9bc"
   }
  }
 },
 "nbformat": 4,
 "nbformat_minor": 2
}
